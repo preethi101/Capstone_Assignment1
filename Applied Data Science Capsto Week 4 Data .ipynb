{
    "cells": [
        {
            "metadata": {
                "collapsed": true
            },
            "cell_type": "markdown",
            "source": "# Data\n\n## Gathering Data\n\n### We will be gathering data using data provided by Wikipedia on the city of Toronto stored in csv format as well as leveraging the data provided by Foursquare API. Some of the parameters of data we will be using includes \n\n### - latitude and longitude coordinates of neighbourhoods and venues \n### - top venues in each neighbourhood\n### - category of each venue (Restaurant, Park, Museum etc.) \n### - Venue names\n### - Neighbourhood names \n### - Venue details etc.\n\n## Example Scenario\n\n### For example lets say an aspiring Restaurant owner would like to open a restaurant somewhere in toronto. This project should help him by providing data regarding similar restaurants in each neighbourhood, their locations (latitude and longitude), and additional details about the restaurant that can be produced by the Foursquare API such as rating, menus, reviews etc.\n\n## Understanding the data\n\n### We can understand various parameters of the data using visual analysis and descriptive statistics. We must also do this to check the data quality (missing, invalid or misleading values) to ensure a comprehensive dataset\n\n## Data Preparation\n\n### This includes aggregating various records of data to create comprehensive single records in a data frame to represent one neighbourhood, with all required parameters as columns\n"
        },
        {
            "metadata": {},
            "cell_type": "code",
            "source": "",
            "execution_count": null,
            "outputs": []
        }
    ],
    "metadata": {
        "kernelspec": {
            "name": "python3",
            "display_name": "Python 3.6",
            "language": "python"
        },
        "language_info": {
            "name": "python",
            "version": "3.6.8",
            "mimetype": "text/x-python",
            "codemirror_mode": {
                "name": "ipython",
                "version": 3
            },
            "pygments_lexer": "ipython3",
            "nbconvert_exporter": "python",
            "file_extension": ".py"
        }
    },
    "nbformat": 4,
    "nbformat_minor": 1
}