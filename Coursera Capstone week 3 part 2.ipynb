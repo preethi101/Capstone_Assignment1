{
    "cells": [
        {
            "metadata": {},
            "cell_type": "code",
            "source": "import pandas as pd\nimport numpy as np\nimport wikipedia as wp",
            "execution_count": 15,
            "outputs": []
        },
        {
            "metadata": {},
            "cell_type": "code",
            "source": "html = wp.page(\"List of postal codes of Canada: M\").html().encode(\"UTF-8\")\ndf = pd.read_html(html, header = 0)[0]\n\n# Drope the rows with Borough of \"Not assigned\"\ndf_assigned = df[df.Borough != 'Not assigned']\ndf_assigned.reset_index(drop = True, inplace = True)\n\n# Merge rows with the same Postcode\ndf_assigned = df_assigned.groupby(['Postcode', 'Borough'], as_index=False).agg(lambda x: ', '.join(set(x)))\n\n\n# Set 'Not assigned' Neigbourhood to be equal to Borough\nna_nb_idx =df_assigned['Neighborhood'] == 'Not assigned'\ndf_assigned.loc[na_nb_idx, 'Neighborhood'] = df_assigned[na_nb_idx].Borough\ndf_assigned[df_assigned['Postcode'] == 'M7A']",
            "execution_count": 10,
            "outputs": [
                {
                    "output_type": "execute_result",
                    "execution_count": 10,
                    "data": {
                        "text/plain": "   Postcode           Borough  Neighborhood\n85      M7A  Downtown Toronto  Queen's Park",
                        "text/html": "<div>\n<style scoped>\n    .dataframe tbody tr th:only-of-type {\n        vertical-align: middle;\n    }\n\n    .dataframe tbody tr th {\n        vertical-align: top;\n    }\n\n    .dataframe thead th {\n        text-align: right;\n    }\n</style>\n<table border=\"1\" class=\"dataframe\">\n  <thead>\n    <tr style=\"text-align: right;\">\n      <th></th>\n      <th>Postcode</th>\n      <th>Borough</th>\n      <th>Neighborhood</th>\n    </tr>\n  </thead>\n  <tbody>\n    <tr>\n      <th>85</th>\n      <td>M7A</td>\n      <td>Downtown Toronto</td>\n      <td>Queen's Park</td>\n    </tr>\n  </tbody>\n</table>\n</div>"
                    },
                    "metadata": {}
                }
            ]
        },
        {
            "metadata": {},
            "cell_type": "code",
            "source": "\n# Show the shape of the df\ndf_assigned.shape",
            "execution_count": 11,
            "outputs": [
                {
                    "output_type": "execute_result",
                    "execution_count": 11,
                    "data": {
                        "text/plain": "(103, 3)"
                    },
                    "metadata": {}
                }
            ]
        },
        {
            "metadata": {},
            "cell_type": "markdown",
            "source": "ADD LATITUDE AND LONGITUDE OF EACH NEIGHBOURHOOD"
        },
        {
            "metadata": {},
            "cell_type": "code",
            "source": "# Since it is not able to obtain coordinates from using geocoder.google, the given csv file is used\n!wget -O GeoCord.csv http://cocl.us/Geospatial_data/",
            "execution_count": 12,
            "outputs": [
                {
                    "output_type": "stream",
                    "text": "--2020-01-02 04:49:41--  http://cocl.us/Geospatial_data/\nResolving cocl.us (cocl.us)... 169.48.113.194\nConnecting to cocl.us (cocl.us)|169.48.113.194|:80... connected.\nHTTP request sent, awaiting response... 301 Moved Permanently\nLocation: https://cocl.us/Geospatial_data/ [following]\n--2020-01-02 04:49:41--  https://cocl.us/Geospatial_data/\nConnecting to cocl.us (cocl.us)|169.48.113.194|:443... connected.\nHTTP request sent, awaiting response... 301 Moved Permanently\nLocation: https://ibm.box.com/shared/static/9afzr83pps4pwf2smjjcf1y5mvgb18rr.csv [following]\n--2020-01-02 04:49:44--  https://ibm.box.com/shared/static/9afzr83pps4pwf2smjjcf1y5mvgb18rr.csv\nResolving ibm.box.com (ibm.box.com)... 107.152.27.197, 107.152.26.197\nConnecting to ibm.box.com (ibm.box.com)|107.152.27.197|:443... connected.\nHTTP request sent, awaiting response... 301 Moved Permanently\nLocation: /public/static/9afzr83pps4pwf2smjjcf1y5mvgb18rr.csv [following]\n--2020-01-02 04:49:44--  https://ibm.box.com/public/static/9afzr83pps4pwf2smjjcf1y5mvgb18rr.csv\nReusing existing connection to ibm.box.com:443.\nHTTP request sent, awaiting response... 301 Moved Permanently\nLocation: https://ibm.ent.box.com/public/static/9afzr83pps4pwf2smjjcf1y5mvgb18rr.csv [following]\n--2020-01-02 04:49:45--  https://ibm.ent.box.com/public/static/9afzr83pps4pwf2smjjcf1y5mvgb18rr.csv\nResolving ibm.ent.box.com (ibm.ent.box.com)... 185.235.236.211\nConnecting to ibm.ent.box.com (ibm.ent.box.com)|185.235.236.211|:443... connected.\nHTTP request sent, awaiting response... 302 Found\nLocation: https://public.boxcloud.com/d/1/b1!T7lIdvV_LPZxX7HQiecH_fTEIDoe0teV1G2dLItM-eOPf7GHjAGcru83cnLEFUIlfdhWmFaVZdifb-beUW2MeThADrQIWQ3WZpWNRDbUoFCMBrtJpIefzG4n2sPl6tXGJ9m5B-Gua3WNdTTir8oKUY5p88w8riwIAah0a480H2cjtBkm-32JTwporfYB6ByaH70KlW5aNaHR32FGyeAvVB7_vbRtM2tvu739ZcO8Lyh7hBEGXkVanzFrhfNSY6Fxynxz0tcACYJ3McoIBRQU1Fa3fyZIzSl-byxiK5J1UBnTZbS2S6Ws2hpQykTs-Zqg9xM17JCOXtiFxAsW8KPxETqePUAh4pjArIpstc76IDjSw0g3ejmehNX9nW4Oo1yCr3hpoQtypP5pu8tVArbK0eyOX3nSiwAIUSAabaCM0K0msUyxWjf-DP2d8JPeyRZii1UAgo_dLOknshydqZ_ZeGyJ1Czw9KNYP-lApqlO0p6m37sQtboo5p1qJXbJ_WaRrf0zvFIpnlAtt5l90uUFSs7mslsB6w9NZYpsQpLdjgMtZItjGF2Gn3ImNq9UhLxU9ZbYVvTvr9t8IQtSEX-_rlncLdAMOjn03UrmNMZDdqX0VSAqdZSvG3UY0SpMXg3rn_skMWLKuYfbYCJ0s5v77ti_jH6Z3AgbCSv_2BrMs0AJXyEU2f44wDvuYUuvNDAJEDcVRx-XW-UioCPES9jYdlvAbvGrVjaRUY4JBsq-BRZvgrz1uFraRvqgmKcfZ9LsJTthCEedb995DCDvLyTUN8YVTtdH0MwVRXgl3sCHRWpKcEnW87pPfcBwMuQPdPvqViZzKVNjzQG7x8I5INgzMU9_WZatlO_g7jkIHUmN1_E0MLkz-9_Jwu9_GM4wJMIlgsBo2JdfedGXBxf0XFgcLPNGyVM5IsKvfdZ3f7DFD-fFkglLCZBVa76R3NRNLyJFmzVKJgWKVfMq59xrm_J20z9tOArCRu6eToZHiP7JhhxhkrVo0WVPH3PEJSzSGGlVU_Oa5gen48vznK4UGuE2V6zBruYHAVl26xM6JJEkAL9Mmb3025Ud-EIqH-wPkJqRWQW7jUirN_c-io096uB8IahQW58zqEdCHMwYL4gOYR7lGWSGeAJ4pCem07fFBQ0nnqxleAHPQML5YWx-lBnOoKu4ezmA2shjRzLQmq-OIQjLQeLTnLTGjIyuT4af6HYCn_-o81CJn6gl4ZOiWPYWy1EsCfNbOAB8W_zZK067DJH6YHrhtnBmDTO3BSrXdK9BaNABxy-rrCgJtz-N207RHVwZv0iYnEvrNxQbRwEtRY3bmbG4RRrMki4UJ2G2yvAsQw40g4LsHITlCt_pWv54N-O_tVdrXgi5_z97D_3SvLPGYcA9J2aPNvSLYwpYd48./download [following]\n--2020-01-02 04:49:45--  https://public.boxcloud.com/d/1/b1!T7lIdvV_LPZxX7HQiecH_fTEIDoe0teV1G2dLItM-eOPf7GHjAGcru83cnLEFUIlfdhWmFaVZdifb-beUW2MeThADrQIWQ3WZpWNRDbUoFCMBrtJpIefzG4n2sPl6tXGJ9m5B-Gua3WNdTTir8oKUY5p88w8riwIAah0a480H2cjtBkm-32JTwporfYB6ByaH70KlW5aNaHR32FGyeAvVB7_vbRtM2tvu739ZcO8Lyh7hBEGXkVanzFrhfNSY6Fxynxz0tcACYJ3McoIBRQU1Fa3fyZIzSl-byxiK5J1UBnTZbS2S6Ws2hpQykTs-Zqg9xM17JCOXtiFxAsW8KPxETqePUAh4pjArIpstc76IDjSw0g3ejmehNX9nW4Oo1yCr3hpoQtypP5pu8tVArbK0eyOX3nSiwAIUSAabaCM0K0msUyxWjf-DP2d8JPeyRZii1UAgo_dLOknshydqZ_ZeGyJ1Czw9KNYP-lApqlO0p6m37sQtboo5p1qJXbJ_WaRrf0zvFIpnlAtt5l90uUFSs7mslsB6w9NZYpsQpLdjgMtZItjGF2Gn3ImNq9UhLxU9ZbYVvTvr9t8IQtSEX-_rlncLdAMOjn03UrmNMZDdqX0VSAqdZSvG3UY0SpMXg3rn_skMWLKuYfbYCJ0s5v77ti_jH6Z3AgbCSv_2BrMs0AJXyEU2f44wDvuYUuvNDAJEDcVRx-XW-UioCPES9jYdlvAbvGrVjaRUY4JBsq-BRZvgrz1uFraRvqgmKcfZ9LsJTthCEedb995DCDvLyTUN8YVTtdH0MwVRXgl3sCHRWpKcEnW87pPfcBwMuQPdPvqViZzKVNjzQG7x8I5INgzMU9_WZatlO_g7jkIHUmN1_E0MLkz-9_Jwu9_GM4wJMIlgsBo2JdfedGXBxf0XFgcLPNGyVM5IsKvfdZ3f7DFD-fFkglLCZBVa76R3NRNLyJFmzVKJgWKVfMq59xrm_J20z9tOArCRu6eToZHiP7JhhxhkrVo0WVPH3PEJSzSGGlVU_Oa5gen48vznK4UGuE2V6zBruYHAVl26xM6JJEkAL9Mmb3025Ud-EIqH-wPkJqRWQW7jUirN_c-io096uB8IahQW58zqEdCHMwYL4gOYR7lGWSGeAJ4pCem07fFBQ0nnqxleAHPQML5YWx-lBnOoKu4ezmA2shjRzLQmq-OIQjLQeLTnLTGjIyuT4af6HYCn_-o81CJn6gl4ZOiWPYWy1EsCfNbOAB8W_zZK067DJH6YHrhtnBmDTO3BSrXdK9BaNABxy-rrCgJtz-N207RHVwZv0iYnEvrNxQbRwEtRY3bmbG4RRrMki4UJ2G2yvAsQw40g4LsHITlCt_pWv54N-O_tVdrXgi5_z97D_3SvLPGYcA9J2aPNvSLYwpYd48./download\nResolving public.boxcloud.com (public.boxcloud.com)... 185.235.236.200\nConnecting to public.boxcloud.com (public.boxcloud.com)|185.235.236.200|:443... connected.\nHTTP request sent, awaiting response... 200 OK\nLength: 2891 (2.8K) [text/csv]\nSaving to: \u2018GeoCord.csv\u2019\n\n100%[======================================>] 2,891       --.-K/s   in 0s      \n\n2020-01-02 04:49:46 (244 MB/s) - \u2018GeoCord.csv\u2019 saved [2891/2891]\n\n",
                    "name": "stdout"
                }
            ]
        },
        {
            "metadata": {},
            "cell_type": "code",
            "source": "df_cord = pd.read_csv('GeoCord.csv') # Read the csv data\ndf_cord.head()",
            "execution_count": 13,
            "outputs": [
                {
                    "output_type": "execute_result",
                    "execution_count": 13,
                    "data": {
                        "text/plain": "  Postal Code   Latitude  Longitude\n0         M1B  43.806686 -79.194353\n1         M1C  43.784535 -79.160497\n2         M1E  43.763573 -79.188711\n3         M1G  43.770992 -79.216917\n4         M1H  43.773136 -79.239476",
                        "text/html": "<div>\n<style scoped>\n    .dataframe tbody tr th:only-of-type {\n        vertical-align: middle;\n    }\n\n    .dataframe tbody tr th {\n        vertical-align: top;\n    }\n\n    .dataframe thead th {\n        text-align: right;\n    }\n</style>\n<table border=\"1\" class=\"dataframe\">\n  <thead>\n    <tr style=\"text-align: right;\">\n      <th></th>\n      <th>Postal Code</th>\n      <th>Latitude</th>\n      <th>Longitude</th>\n    </tr>\n  </thead>\n  <tbody>\n    <tr>\n      <th>0</th>\n      <td>M1B</td>\n      <td>43.806686</td>\n      <td>-79.194353</td>\n    </tr>\n    <tr>\n      <th>1</th>\n      <td>M1C</td>\n      <td>43.784535</td>\n      <td>-79.160497</td>\n    </tr>\n    <tr>\n      <th>2</th>\n      <td>M1E</td>\n      <td>43.763573</td>\n      <td>-79.188711</td>\n    </tr>\n    <tr>\n      <th>3</th>\n      <td>M1G</td>\n      <td>43.770992</td>\n      <td>-79.216917</td>\n    </tr>\n    <tr>\n      <th>4</th>\n      <td>M1H</td>\n      <td>43.773136</td>\n      <td>-79.239476</td>\n    </tr>\n  </tbody>\n</table>\n</div>"
                    },
                    "metadata": {}
                }
            ]
        },
        {
            "metadata": {},
            "cell_type": "code",
            "source": "# Create Latitude and Longitude columns in df_assigned\ndf_assigned['Latitude'] = np.nan\ndf_assigned['Longitude'] = np.nan\n\n# For each postcode in df_assigned, find corresponding coordinates in df_cord and assign it to df_assigned\nfor idx in df_assigned.index:\n    cord_idx = df_cord['Postal Code'] == df_assigned.loc[idx, 'Postcode']\n    df_assigned.at[idx, 'Latitude'] = df_cord.loc[cord_idx, 'Latitude'].values\n    df_assigned.at[idx, 'Longitude'] = df_cord.loc[cord_idx, 'Longitude'].values\n\n# Display the results\ndf_assigned.head(20)",
            "execution_count": 16,
            "outputs": [
                {
                    "output_type": "execute_result",
                    "execution_count": 16,
                    "data": {
                        "text/plain": "   Postcode      Borough                                       Neighborhood  \\\n0       M1B  Scarborough                                     Malvern, Rouge   \n1       M1C  Scarborough             Port Union, Rouge Hill, Highland Creek   \n2       M1E  Scarborough                  West Hill, Guildwood, Morningside   \n3       M1G  Scarborough                                             Woburn   \n4       M1H  Scarborough                                          Cedarbrae   \n5       M1J  Scarborough                                Scarborough Village   \n6       M1K  Scarborough        East Birchmount Park, Kennedy Park, Ionview   \n7       M1L  Scarborough                    Golden Mile, Oakridge, Clairlea   \n8       M1M  Scarborough    Cliffcrest, Cliffside, Scarborough Village West   \n9       M1N  Scarborough                        Birch Cliff, Cliffside West   \n10      M1P  Scarborough  Wexford Heights, Dorset Park, Scarborough Town...   \n11      M1R  Scarborough                                  Maryvale, Wexford   \n12      M1S  Scarborough                                          Agincourt   \n13      M1T  Scarborough            Tam O'Shanter, Clarks Corners, Sullivan   \n14      M1V  Scarborough  L'Amoreaux East, Agincourt North, Steeles East...   \n15      M1W  Scarborough                                    L'Amoreaux West   \n16      M1X  Scarborough                                        Upper Rouge   \n17      M2H   North York                                  Hillcrest Village   \n18      M2J   North York                       Oriole, Henry Farm, Fairview   \n19      M2K   North York                                    Bayview Village   \n\n     Latitude  Longitude  \n0   43.806686 -79.194353  \n1   43.784535 -79.160497  \n2   43.763573 -79.188711  \n3   43.770992 -79.216917  \n4   43.773136 -79.239476  \n5   43.744734 -79.239476  \n6   43.727929 -79.262029  \n7   43.711112 -79.284577  \n8   43.716316 -79.239476  \n9   43.692657 -79.264848  \n10  43.757410 -79.273304  \n11  43.750072 -79.295849  \n12  43.794200 -79.262029  \n13  43.781638 -79.304302  \n14  43.815252 -79.284577  \n15  43.799525 -79.318389  \n16  43.836125 -79.205636  \n17  43.803762 -79.363452  \n18  43.778517 -79.346556  \n19  43.786947 -79.385975  ",
                        "text/html": "<div>\n<style scoped>\n    .dataframe tbody tr th:only-of-type {\n        vertical-align: middle;\n    }\n\n    .dataframe tbody tr th {\n        vertical-align: top;\n    }\n\n    .dataframe thead th {\n        text-align: right;\n    }\n</style>\n<table border=\"1\" class=\"dataframe\">\n  <thead>\n    <tr style=\"text-align: right;\">\n      <th></th>\n      <th>Postcode</th>\n      <th>Borough</th>\n      <th>Neighborhood</th>\n      <th>Latitude</th>\n      <th>Longitude</th>\n    </tr>\n  </thead>\n  <tbody>\n    <tr>\n      <th>0</th>\n      <td>M1B</td>\n      <td>Scarborough</td>\n      <td>Malvern, Rouge</td>\n      <td>43.806686</td>\n      <td>-79.194353</td>\n    </tr>\n    <tr>\n      <th>1</th>\n      <td>M1C</td>\n      <td>Scarborough</td>\n      <td>Port Union, Rouge Hill, Highland Creek</td>\n      <td>43.784535</td>\n      <td>-79.160497</td>\n    </tr>\n    <tr>\n      <th>2</th>\n      <td>M1E</td>\n      <td>Scarborough</td>\n      <td>West Hill, Guildwood, Morningside</td>\n      <td>43.763573</td>\n      <td>-79.188711</td>\n    </tr>\n    <tr>\n      <th>3</th>\n      <td>M1G</td>\n      <td>Scarborough</td>\n      <td>Woburn</td>\n      <td>43.770992</td>\n      <td>-79.216917</td>\n    </tr>\n    <tr>\n      <th>4</th>\n      <td>M1H</td>\n      <td>Scarborough</td>\n      <td>Cedarbrae</td>\n      <td>43.773136</td>\n      <td>-79.239476</td>\n    </tr>\n    <tr>\n      <th>5</th>\n      <td>M1J</td>\n      <td>Scarborough</td>\n      <td>Scarborough Village</td>\n      <td>43.744734</td>\n      <td>-79.239476</td>\n    </tr>\n    <tr>\n      <th>6</th>\n      <td>M1K</td>\n      <td>Scarborough</td>\n      <td>East Birchmount Park, Kennedy Park, Ionview</td>\n      <td>43.727929</td>\n      <td>-79.262029</td>\n    </tr>\n    <tr>\n      <th>7</th>\n      <td>M1L</td>\n      <td>Scarborough</td>\n      <td>Golden Mile, Oakridge, Clairlea</td>\n      <td>43.711112</td>\n      <td>-79.284577</td>\n    </tr>\n    <tr>\n      <th>8</th>\n      <td>M1M</td>\n      <td>Scarborough</td>\n      <td>Cliffcrest, Cliffside, Scarborough Village West</td>\n      <td>43.716316</td>\n      <td>-79.239476</td>\n    </tr>\n    <tr>\n      <th>9</th>\n      <td>M1N</td>\n      <td>Scarborough</td>\n      <td>Birch Cliff, Cliffside West</td>\n      <td>43.692657</td>\n      <td>-79.264848</td>\n    </tr>\n    <tr>\n      <th>10</th>\n      <td>M1P</td>\n      <td>Scarborough</td>\n      <td>Wexford Heights, Dorset Park, Scarborough Town...</td>\n      <td>43.757410</td>\n      <td>-79.273304</td>\n    </tr>\n    <tr>\n      <th>11</th>\n      <td>M1R</td>\n      <td>Scarborough</td>\n      <td>Maryvale, Wexford</td>\n      <td>43.750072</td>\n      <td>-79.295849</td>\n    </tr>\n    <tr>\n      <th>12</th>\n      <td>M1S</td>\n      <td>Scarborough</td>\n      <td>Agincourt</td>\n      <td>43.794200</td>\n      <td>-79.262029</td>\n    </tr>\n    <tr>\n      <th>13</th>\n      <td>M1T</td>\n      <td>Scarborough</td>\n      <td>Tam O'Shanter, Clarks Corners, Sullivan</td>\n      <td>43.781638</td>\n      <td>-79.304302</td>\n    </tr>\n    <tr>\n      <th>14</th>\n      <td>M1V</td>\n      <td>Scarborough</td>\n      <td>L'Amoreaux East, Agincourt North, Steeles East...</td>\n      <td>43.815252</td>\n      <td>-79.284577</td>\n    </tr>\n    <tr>\n      <th>15</th>\n      <td>M1W</td>\n      <td>Scarborough</td>\n      <td>L'Amoreaux West</td>\n      <td>43.799525</td>\n      <td>-79.318389</td>\n    </tr>\n    <tr>\n      <th>16</th>\n      <td>M1X</td>\n      <td>Scarborough</td>\n      <td>Upper Rouge</td>\n      <td>43.836125</td>\n      <td>-79.205636</td>\n    </tr>\n    <tr>\n      <th>17</th>\n      <td>M2H</td>\n      <td>North York</td>\n      <td>Hillcrest Village</td>\n      <td>43.803762</td>\n      <td>-79.363452</td>\n    </tr>\n    <tr>\n      <th>18</th>\n      <td>M2J</td>\n      <td>North York</td>\n      <td>Oriole, Henry Farm, Fairview</td>\n      <td>43.778517</td>\n      <td>-79.346556</td>\n    </tr>\n    <tr>\n      <th>19</th>\n      <td>M2K</td>\n      <td>North York</td>\n      <td>Bayview Village</td>\n      <td>43.786947</td>\n      <td>-79.385975</td>\n    </tr>\n  </tbody>\n</table>\n</div>"
                    },
                    "metadata": {}
                }
            ]
        },
        {
            "metadata": {},
            "cell_type": "code",
            "source": "",
            "execution_count": null,
            "outputs": []
        }
    ],
    "metadata": {
        "kernelspec": {
            "name": "python3",
            "display_name": "Python 3.6",
            "language": "python"
        },
        "language_info": {
            "name": "python",
            "version": "3.6.8",
            "mimetype": "text/x-python",
            "codemirror_mode": {
                "name": "ipython",
                "version": 3
            },
            "pygments_lexer": "ipython3",
            "nbconvert_exporter": "python",
            "file_extension": ".py"
        }
    },
    "nbformat": 4,
    "nbformat_minor": 1
}