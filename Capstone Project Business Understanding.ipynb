{
    "cells": [
        {
            "metadata": {
                "collapsed": true
            },
            "cell_type": "markdown",
            "source": "# The Battle of The Neighbourhoods\n\n## Introduction/Business Understanding\n\n### This project is to give us a glimpse into some of the major neighbourhoods of one of the biggest cities in Canada. The goal of this project is to provide tourists with all sorts of data to help them get around the city and make it easy to enjoy the best places their neighbourhood has to offer. This can be achieved using data science and the Foursquare API\n\n### Some of the business requirements of this project include:\n### - Determining the top 10 most popular venues in a given neighbourhood\n### - Categorizing and providing data on particular venues such as Restaurants, Parks etc. \n### - Producing the locations of the produced venues as required\n### - and more\n\n### So for this project the stakeholders are tourists. The information generated and produced by this project could also be of interest to various industries. Given the nature of this project and business requirements, we will be choosing a descriptive analytic approach\n\n\n"
        },
        {
            "metadata": {},
            "cell_type": "code",
            "source": "",
            "execution_count": null,
            "outputs": []
        }
    ],
    "metadata": {
        "kernelspec": {
            "name": "python3",
            "display_name": "Python 3.6",
            "language": "python"
        },
        "language_info": {
            "name": "python",
            "version": "3.6.8",
            "mimetype": "text/x-python",
            "codemirror_mode": {
                "name": "ipython",
                "version": 3
            },
            "pygments_lexer": "ipython3",
            "nbconvert_exporter": "python",
            "file_extension": ".py"
        }
    },
    "nbformat": 4,
    "nbformat_minor": 1
}