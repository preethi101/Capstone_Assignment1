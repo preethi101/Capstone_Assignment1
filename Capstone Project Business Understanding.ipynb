{
    "cells": [
        {
            "metadata": {
                "collapsed": true
            },
            "cell_type": "markdown",
            "source": "# The Battle of The Neighbourhoods\n\n## Introduction/Business Understanding\n\n### This project is to give us a glimpse into some of the major neighbourhoods of one of the biggest cities in Canada, namely Toronto. The goal of this project is to help someone who wants to open a shop/business in Toronto determine a suitable location to open there business. By leveraging data science and the Foursquare API they can be provided with details about existing and competing businesses and position their new shop/business accordingly.\n\n### Some of the business requirements of this project include:\n### - Determining the top 10 most popular venues in a given neighbourhood\n### - Categorizing and providing data on particular venues such as Restaurants, Parks etc. \n### - Producing the locations of the produced venues as required\n### - Producing information specific to the category of shop/business that the stakeholder is trying to create\n### - and more\n\n### So for this project the stakeholders are business owners looking for locations for their new business/shop. The information generated and produced by this project could also be of interest to various industries. Given the nature of this project and business requirements, we will be choosing a descriptive analytic approach\n\n\n"
        },
        {
            "metadata": {},
            "cell_type": "code",
            "source": "",
            "execution_count": null,
            "outputs": []
        }
    ],
    "metadata": {
        "kernelspec": {
            "name": "python3",
            "display_name": "Python 3.6",
            "language": "python"
        },
        "language_info": {
            "name": "python",
            "version": "3.6.8",
            "mimetype": "text/x-python",
            "codemirror_mode": {
                "name": "ipython",
                "version": 3
            },
            "pygments_lexer": "ipython3",
            "nbconvert_exporter": "python",
            "file_extension": ".py"
        }
    },
    "nbformat": 4,
    "nbformat_minor": 1
}